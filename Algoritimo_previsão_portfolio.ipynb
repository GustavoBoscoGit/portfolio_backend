{
  "nbformat": 4,
  "nbformat_minor": 0,
  "metadata": {
    "colab": {
      "provenance": [],
      "include_colab_link": true
    },
    "kernelspec": {
      "name": "python3",
      "display_name": "Python 3"
    },
    "language_info": {
      "name": "python"
    }
  },
  "cells": [
    {
      "cell_type": "markdown",
      "metadata": {
        "id": "view-in-github",
        "colab_type": "text"
      },
      "source": [
        "<a href=\"https://colab.research.google.com/github/GustavoBoscoGit/weather-prediction-portfolio-backend/blob/develop/Algoritimo_previs%C3%A3o_portfolio.ipynb\" target=\"_parent\"><img src=\"https://colab.research.google.com/assets/colab-badge.svg\" alt=\"Open In Colab\"/></a>"
      ]
    },
    {
      "cell_type": "markdown",
      "source": [
        "### Extração do Dataset"
      ],
      "metadata": {
        "id": "9Ingc5APJiEC"
      }
    },
    {
      "cell_type": "code",
      "source": [
        "import pandas as pd\n",
        "\n",
        "url='https://drive.google.com/file/d/1j-6P6mo0VxZ1K97dD1OM8H8taJeADnTl/view?usp=sharing'\n",
        "file_id=url.split('/')[-2]\n",
        "dwn_url='https://drive.google.com/uc?id=' + file_id"
      ],
      "metadata": {
        "id": "MDV-uiVSJlsO"
      },
      "execution_count": null,
      "outputs": []
    },
    {
      "cell_type": "markdown",
      "source": [
        "### Limpeza e organização"
      ],
      "metadata": {
        "id": "zlQK91I2Jmwx"
      }
    },
    {
      "cell_type": "code",
      "source": [
        "df = pd.read_csv(dwn_url, encoding='latin-1', sep=';', engine='python', decimal=',', thousands='.')\n",
        "df = df[df != -9999].dropna()\n",
        "df.rename(columns={\n",
        "    'DATA (YYYY-MM-DD)': 'DATA',\n",
        "    'HORA (UTC)': 'HORA',\n",
        "    'PRECIPITAÇÃO TOTAL, HORÁRIO (mm)': 'PRECIPITACAO',\n",
        "    'PRESSAO ATMOSFERICA AO NIVEL DA ESTACAO, HORARIA (mB)': 'PRESSAO_ATMOSFERICA',\n",
        "    'PRESSÃO ATMOSFERICA MAX.NA HORA ANT. (AUT) (mB)': 'PRESSAO_MAX',\n",
        "    'PRESSÃO ATMOSFERICA MIN. NA HORA ANT. (AUT) (mB)': 'PRESSAO_MIN',\n",
        "    'RADIACAO GLOBAL (KJ/m²)': 'RADIACAO_GLOBAL',\n",
        "    'TEMPERATURA DO AR - BULBO SECO, HORARIA (°C)': 'TEMPERATURA_AR',\n",
        "    'TEMPERATURA DO PONTO DE ORVALHO (°C)': 'TEMPERATURA_ORVALHO',\n",
        "    'TEMPERATURA MÁXIMA NA HORA ANT. (AUT) (°C)': 'TEMP_MAX_ANT',\n",
        "    'TEMPERATURA MÍNIMA NA HORA ANT. (AUT) (°C)': 'TEMP_MIN_ANT',\n",
        "    'TEMPERATURA ORVALHO MAX. NA HORA ANT. (AUT) (°C)': 'TEMP_ORVALHO_MAX_ANT',\n",
        "    'TEMPERATURA ORVALHO MIN. NA HORA ANT. (AUT) (°C)': 'TEMP_ORVALHO_MIN_ANT',\n",
        "    'UMIDADE REL. MAX. NA HORA ANT. (AUT) (%)': 'UMIDADE_MAX_ANT',\n",
        "    'UMIDADE REL. MIN. NA HORA ANT. (AUT) (%)': 'UMIDADE_MIN_ANT',\n",
        "    'UMIDADE RELATIVA DO AR, HORARIA (%)': 'UMIDADE_RELATIVA_AR',\n",
        "    'VENTO, DIREÇÃO HORARIA (gr) (° (gr))': 'VENTO_DIRECAO',\n",
        "    'VENTO, RAJADA MAXIMA (m/s)': 'VENTO_RAJADA_MAX',\n",
        "    'VENTO, VELOCIDADE HORARIA (m/s)': 'VENTO_VELOCIDADE'\n",
        "}, inplace=True)\n",
        "\n",
        "# Save the cleaned dataset as a new CSV file\n",
        "df.to_csv('clean_weather_dataset.csv', index=False)\n",
        "\n",
        "# pd.set_option('display.width', None)\n",
        "print(df.head(10).to_string(index=False))\n"
      ],
      "metadata": {
        "colab": {
          "base_uri": "https://localhost:8080/"
        },
        "id": "lJ8ReJhKB_Qv",
        "outputId": "f5c10ef7-c2b2-49f9-a6a9-eb0866ddf86e"
      },
      "execution_count": null,
      "outputs": [
        {
          "output_type": "stream",
          "name": "stdout",
          "text": [
            "      DATA  HORA  PRECIPITACAO  PRESSAO_ATMOSFERICA  PRESSAO_MAX  PRESSAO_MIN  RADIACAO_GLOBAL  TEMPERATURA_AR  TEMPERATURA_ORVALHO  TEMP_MAX_ANT  TEMP_MIN_ANT  TEMP_ORVALHO_MAX_ANT  TEMP_ORVALHO_MIN_ANT  UMIDADE_MAX_ANT  UMIDADE_MIN_ANT  UMIDADE_RELATIVA_AR  VENTO_DIRECAO  VENTO_RAJADA_MAX  VENTO_VELOCIDADE\n",
            "17/03/2003 08:00           0.0               1017.8       1017.8       1017.0             66.0            23.8                 16.7          23.8          23.5                  18.0                  15.8             70.0             61.0                 64.0          182.0               8.6               4.5\n",
            "17/03/2003 09:00           0.0               1018.5       1018.5       1017.9            352.0            23.7                 15.2          24.0          23.5                  18.1                  14.9             70.0             58.0                 59.0          210.0               9.3               3.7\n",
            "17/03/2003 10:00           0.0               1018.9       1019.0       1018.5           1239.0            25.0                 15.9          25.1          23.8                  16.4                  14.4             62.0             54.0                 57.0          189.0               9.5               5.8\n",
            "17/03/2003 11:00           0.0               1019.3       1019.3       1019.0           2400.0            25.6                 15.9          25.6          25.0                  15.9                  14.2             57.0             50.0                 55.0          184.0              10.3               6.0\n",
            "17/03/2003 12:00           0.0               1019.3       1019.3       1019.2           2953.0            26.3                 15.6          26.3          25.4                  16.5                  14.1             56.0             49.0                 52.0          186.0               9.9               5.4\n",
            "17/03/2003 13:00           0.0               1018.7       1019.3       1018.7           3313.0            26.9                 11.9          27.0          26.1                  15.9                  11.9             53.0             39.0                 39.0          177.0               8.6               3.8\n",
            "17/03/2003 14:00           0.0               1018.2       1018.7       1018.2           3391.0            27.2                 14.4          27.7          26.8                  15.3                  11.9             48.0             39.0                 45.0          159.0               7.0               3.9\n",
            "17/03/2003 15:00           0.0               1017.4       1018.1       1017.4           3198.0            27.0                 16.6          27.5          26.9                  16.8                  14.3             53.0             45.0                 53.0          163.0               8.7               4.3\n",
            "17/03/2003 16:00           0.0               1016.9       1017.4       1016.9           2752.0            26.9                 17.1          27.2          26.7                  17.8                  16.0             57.0             51.0                 55.0          163.0               8.9               4.3\n",
            "17/03/2003 17:00           0.0               1016.8       1016.9       1016.8           1959.0            26.3                 16.4          26.8          25.9                  17.4                  15.9             57.0             53.0                 55.0          161.0               8.3               4.7\n"
          ]
        }
      ]
    },
    {
      "cell_type": "code",
      "source": [
        "import pandas as pd\n",
        "from sklearn.ensemble import RandomForestRegressor\n",
        "from sklearn.model_selection import train_test_split\n",
        "from sklearn.metrics import mean_squared_error\n",
        "\n",
        "url='https://drive.google.com/file/d/1GEQwoGU3JtiqVpgbKehMZ_t97gOdb0iC/view?usp=sharing'\n",
        "file_id=url.split('/')[-2]\n",
        "dwn_url='https://drive.google.com/uc?id=' + file_id\n",
        "df = pd.read_csv(dwn_url, encoding='latin-1', sep=';', engine='python', decimal=',', thousands='.')\n",
        "df = df[df != -9999].dropna()\n",
        "df.rename(columns={\n",
        "    'DATA (YYYY-MM-DD)': 'DATA',\n",
        "    'HORA (UTC)': 'HORA',\n",
        "    'PRECIPITAÇÃO TOTAL, HORÁRIO (mm)': 'PRECIPITACAO',\n",
        "    'PRESSAO ATMOSFERICA AO NIVEL DA ESTACAO, HORARIA (mB)': 'PRESSAO_ATMOSFERICA',\n",
        "    'PRESSÃO ATMOSFERICA MAX.NA HORA ANT. (AUT) (mB)': 'PRESSAO_MAX',\n",
        "    'PRESSÃO ATMOSFERICA MIN. NA HORA ANT. (AUT) (mB)': 'PRESSAO_MIN',\n",
        "    'RADIACAO GLOBAL (KJ/m²)': 'RADIACAO_GLOBAL',\n",
        "    'TEMPERATURA DO AR - BULBO SECO, HORARIA (°C)': 'TEMPERATURA_AR',\n",
        "    'TEMPERATURA DO PONTO DE ORVALHO (°C)': 'TEMPERATURA_ORVALHO',\n",
        "    'TEMPERATURA MÁXIMA NA HORA ANT. (AUT) (°C)': 'TEMP_MAX_ANT',\n",
        "    'TEMPERATURA MÍNIMA NA HORA ANT. (AUT) (°C)': 'TEMP_MIN_ANT',\n",
        "    'TEMPERATURA ORVALHO MAX. NA HORA ANT. (AUT) (°C)': 'TEMP_ORVALHO_MAX_ANT',\n",
        "    'TEMPERATURA ORVALHO MIN. NA HORA ANT. (AUT) (°C)': 'TEMP_ORVALHO_MIN_ANT',\n",
        "    'UMIDADE REL. MAX. NA HORA ANT. (AUT) (%)': 'UMIDADE_MAX_ANT',\n",
        "    'UMIDADE REL. MIN. NA HORA ANT. (AUT) (%)': 'UMIDADE_MIN_ANT',\n",
        "    'UMIDADE RELATIVA DO AR, HORARIA (%)': 'UMIDADE_RELATIVA_AR',\n",
        "    'VENTO, DIREÇÃO HORARIA (gr) (° (gr))': 'VENTO_DIRECAO',\n",
        "    'VENTO, RAJADA MAXIMA (m/s)': 'VENTO_RAJADA_MAX',\n",
        "    'VENTO, VELOCIDADE HORARIA (m/s)': 'VENTO_VELOCIDADE'\n",
        "}, inplace=True)\n",
        "\n"
      ],
      "metadata": {
        "id": "OjB9LkF2riG3"
      },
      "execution_count": null,
      "outputs": []
    },
    {
      "cell_type": "code",
      "source": [
        "\n",
        "\n",
        "# Dados exógenos\n",
        "X = df[['PRESSAO_ATMOSFERICA', 'PRESSAO_MAX', 'PRESSAO_MIN',\n",
        "         'RADIACAO_GLOBAL', 'TEMPERATURA_AR', 'TEMPERATURA_ORVALHO',\n",
        "         'TEMP_MAX_ANT', 'TEMP_MIN_ANT', 'TEMP_ORVALHO_MAX_ANT',\n",
        "         'TEMP_ORVALHO_MIN_ANT', 'UMIDADE_RELATIVA_AR', 'UMIDADE_MAX_ANT',\n",
        "         'UMIDADE_MIN_ANT', 'VENTO_DIRECAO', 'VENTO_RAJADA_MAX',\n",
        "         'VENTO_VELOCIDADE']]\n",
        "\n",
        "y_precipitacao = df['PRECIPITACAO']\n",
        "y_temperatura = df['TEMPERATURA_AR']\n",
        "y_umidade = df['UMIDADE_RELATIVA_AR']\n",
        "\n",
        "# Dividir os dados em conjunto de treinamento e teste\n",
        "X_train, X_test, y_train_precipitacao, y_test_precipitacao = train_test_split(X, y_precipitacao, test_size=0.2, random_state=42)\n",
        "X_train, X_test, y_train_temperatura, y_test_temperatura = train_test_split(X, y_temperatura, test_size=0.2, random_state=42)\n",
        "X_train, X_test, y_train_umidade, y_test_umidade = train_test_split(X, y_umidade, test_size=0.2, random_state=42)\n",
        "\n",
        "# Ajustar o modelo Random Forest para previsão de precipitação\n",
        "model_precipitacao = RandomForestRegressor(n_estimators=100, random_state=42)\n",
        "model_precipitacao.fit(X_train, y_train_precipitacao)\n",
        "\n",
        "# Ajustar o modelo Random Forest para previsão de temperatura\n",
        "model_temperatura = RandomForestRegressor(n_estimators=100, random_state=42)\n",
        "model_temperatura.fit(X_train, y_train_temperatura)\n",
        "\n",
        "# Ajustar o modelo Random Forest para previsão de umidade\n",
        "model_umidade = RandomForestRegressor(n_estimators=100, random_state=42)\n",
        "model_umidade.fit(X_train, y_train_umidade)\n",
        "\n",
        "# Realizar previsões\n",
        "y_pred_precipitacao = model_precipitacao.predict(X_test)\n",
        "y_pred_temperatura = model_temperatura.predict(X_test)\n",
        "y_pred_umidade = model_umidade.predict(X_test)\n",
        "\n",
        "\n",
        "# Criar DataFrame com as previsões\n",
        "predictions = pd.DataFrame({'Data': X_test.index,\n",
        "                            'Previsão Precipitação': y_pred_precipitacao,\n",
        "                            'Previsão Temperatura': y_pred_temperatura,\n",
        "                            'Previsão Umidade': y_pred_umidade})\n",
        "\n",
        "print(predictions)\n",
        "\n"
      ],
      "metadata": {
        "colab": {
          "base_uri": "https://localhost:8080/"
        },
        "id": "aGctVq6_oWM2",
        "outputId": "33e522e4-ba7c-4aa2-f74a-dce1bd95faec"
      },
      "execution_count": null,
      "outputs": [
        {
          "output_type": "stream",
          "name": "stdout",
          "text": [
            "         Data  Previsão Precipitação  Previsão Temperatura  Previsão Umidade\n",
            "0      154671                  0.000                  26.1              60.0\n",
            "1      118166                  0.702                  19.2              88.0\n",
            "2       57232                  0.034                  19.4              82.0\n",
            "3       50901                  0.000                  22.3              73.0\n",
            "4       72587                  0.002                  17.4              77.0\n",
            "...       ...                    ...                   ...               ...\n",
            "16765  143058                  0.000                  22.5              78.0\n",
            "16766  129997                  0.000                  24.6              61.0\n",
            "16767   20347                  1.306                  21.3              89.0\n",
            "16768  156974                  0.002                  27.0              74.0\n",
            "16769   93997                  0.142                  22.7              72.0\n",
            "\n",
            "[16770 rows x 4 columns]\n"
          ]
        }
      ]
    }
  ]
}